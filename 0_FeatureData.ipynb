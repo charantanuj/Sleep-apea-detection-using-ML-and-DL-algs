{
  "cells": [
    {
      "cell_type": "markdown",
      "metadata": {
        "cell_style": "center",
        "id": "OYE_9OcP40eO"
      },
      "source": [
        "## Importing Libraries"
      ]
    },
    {
      "cell_type": "code",
      "execution_count": null,
      "metadata": {
        "cell_style": "center",
        "id": "UNL9K4Pw40ea"
      },
      "outputs": [],
      "source": [
        "import pandas as pd\n",
        "import numpy as np\n",
        "import matplotlib.pyplot as plt\n",
        "import seaborn as sns\n",
        "from matplotlib import rcParams"
      ]
    },
    {
      "cell_type": "markdown",
      "metadata": {
        "id": "w2YM6hFK40ed"
      },
      "source": [
        "## Exploration of Data"
      ]
    },
    {
      "cell_type": "code",
      "execution_count": null,
      "metadata": {
        "cell_style": "center",
        "scrolled": true,
        "id": "USt1oOAU40ee",
        "outputId": "3c350a0e-ef98-4674-fa40-4a8c69a0f50f"
      },
      "outputs": [
        {
          "data": {
            "text/html": [
              "<div>\n",
              "<style scoped>\n",
              "    .dataframe tbody tr th:only-of-type {\n",
              "        vertical-align: middle;\n",
              "    }\n",
              "\n",
              "    .dataframe tbody tr th {\n",
              "        vertical-align: top;\n",
              "    }\n",
              "\n",
              "    .dataframe thead th {\n",
              "        text-align: right;\n",
              "    }\n",
              "</style>\n",
              "<table border=\"1\" class=\"dataframe\">\n",
              "  <thead>\n",
              "    <tr style=\"text-align: right;\">\n",
              "      <th></th>\n",
              "      <th>Gender</th>\n",
              "      <th>BQ</th>\n",
              "      <th>ESS</th>\n",
              "      <th>BMI</th>\n",
              "      <th>Weight</th>\n",
              "      <th>Height</th>\n",
              "      <th>Head</th>\n",
              "      <th>Neck</th>\n",
              "      <th>Waist</th>\n",
              "      <th>Buttock</th>\n",
              "      <th>Age</th>\n",
              "      <th>AHI</th>\n",
              "    </tr>\n",
              "  </thead>\n",
              "  <tbody>\n",
              "    <tr>\n",
              "      <th>0</th>\n",
              "      <td>M</td>\n",
              "      <td>0.0</td>\n",
              "      <td>14.0</td>\n",
              "      <td>29.07</td>\n",
              "      <td>88.0</td>\n",
              "      <td>174.0</td>\n",
              "      <td>57.5</td>\n",
              "      <td>39.0</td>\n",
              "      <td>95.5</td>\n",
              "      <td>106.5</td>\n",
              "      <td>20</td>\n",
              "      <td>2.90</td>\n",
              "    </tr>\n",
              "    <tr>\n",
              "      <th>1</th>\n",
              "      <td>M</td>\n",
              "      <td>0.0</td>\n",
              "      <td>8.0</td>\n",
              "      <td>26.99</td>\n",
              "      <td>78.0</td>\n",
              "      <td>170.0</td>\n",
              "      <td>57.0</td>\n",
              "      <td>36.5</td>\n",
              "      <td>90.0</td>\n",
              "      <td>100.0</td>\n",
              "      <td>20</td>\n",
              "      <td>1.02</td>\n",
              "    </tr>\n",
              "    <tr>\n",
              "      <th>2</th>\n",
              "      <td>M</td>\n",
              "      <td>0.0</td>\n",
              "      <td>16.0</td>\n",
              "      <td>23.94</td>\n",
              "      <td>75.0</td>\n",
              "      <td>177.0</td>\n",
              "      <td>59.0</td>\n",
              "      <td>39.0</td>\n",
              "      <td>88.0</td>\n",
              "      <td>104.0</td>\n",
              "      <td>20</td>\n",
              "      <td>0.52</td>\n",
              "    </tr>\n",
              "    <tr>\n",
              "      <th>3</th>\n",
              "      <td>M</td>\n",
              "      <td>0.0</td>\n",
              "      <td>15.0</td>\n",
              "      <td>22.13</td>\n",
              "      <td>67.0</td>\n",
              "      <td>174.0</td>\n",
              "      <td>57.0</td>\n",
              "      <td>35.0</td>\n",
              "      <td>74.0</td>\n",
              "      <td>94.0</td>\n",
              "      <td>20</td>\n",
              "      <td>0.56</td>\n",
              "    </tr>\n",
              "    <tr>\n",
              "      <th>4</th>\n",
              "      <td>M</td>\n",
              "      <td>0.0</td>\n",
              "      <td>15.0</td>\n",
              "      <td>22.13</td>\n",
              "      <td>67.0</td>\n",
              "      <td>174.0</td>\n",
              "      <td>57.0</td>\n",
              "      <td>35.0</td>\n",
              "      <td>74.0</td>\n",
              "      <td>94.0</td>\n",
              "      <td>20</td>\n",
              "      <td>0.56</td>\n",
              "    </tr>\n",
              "  </tbody>\n",
              "</table>\n",
              "</div>"
            ],
            "text/plain": [
              "  Gender   BQ   ESS    BMI  Weight  Height  Head  Neck  Waist  Buttock  Age  \\\n",
              "0      M  0.0  14.0  29.07    88.0   174.0  57.5  39.0   95.5    106.5   20   \n",
              "1      M  0.0   8.0  26.99    78.0   170.0  57.0  36.5   90.0    100.0   20   \n",
              "2      M  0.0  16.0  23.94    75.0   177.0  59.0  39.0   88.0    104.0   20   \n",
              "3      M  0.0  15.0  22.13    67.0   174.0  57.0  35.0   74.0     94.0   20   \n",
              "4      M  0.0  15.0  22.13    67.0   174.0  57.0  35.0   74.0     94.0   20   \n",
              "\n",
              "    AHI  \n",
              "0  2.90  \n",
              "1  1.02  \n",
              "2  0.52  \n",
              "3  0.56  \n",
              "4  0.56  "
            ]
          },
          "execution_count": 2,
          "metadata": {},
          "output_type": "execute_result"
        }
      ],
      "source": [
        "df = pd.read_csv('sleeep_apnea_data.csv')\n",
        "\n",
        "df.head()"
      ]
    },
    {
      "cell_type": "code",
      "execution_count": null,
      "metadata": {
        "cell_style": "center",
        "scrolled": true,
        "id": "cV4TyERL40em",
        "outputId": "53c7aad3-0a9c-4526-f590-ad7994c2957a"
      },
      "outputs": [
        {
          "name": "stdout",
          "output_type": "stream",
          "text": [
            "df.shape :  (5245, 12)\n"
          ]
        }
      ],
      "source": [
        "print(\"df.shape : \", df.shape)"
      ]
    },
    {
      "cell_type": "code",
      "execution_count": null,
      "metadata": {
        "cell_style": "center",
        "scrolled": true,
        "id": "iGJ8532L40en",
        "outputId": "345175fb-6ab3-49f4-c5eb-c7a087d65fe7"
      },
      "outputs": [
        {
          "name": "stdout",
          "output_type": "stream",
          "text": [
            "Index(['Gender', 'BQ', 'ESS', 'BMI', 'Weight', 'Height', 'Head', 'Neck',\n",
            "       'Waist', 'Buttock', 'Age', 'AHI'],\n",
            "      dtype='object')\n"
          ]
        }
      ],
      "source": [
        "print(df.columns)"
      ]
    },
    {
      "cell_type": "code",
      "execution_count": null,
      "metadata": {
        "cell_style": "center",
        "scrolled": true,
        "id": "w1XXjic340ep",
        "outputId": "e2a5ef2e-874c-4ae7-f44c-be66f5a5f8de"
      },
      "outputs": [
        {
          "name": "stdout",
          "output_type": "stream",
          "text": [
            "<class 'pandas.core.frame.DataFrame'>\n",
            "RangeIndex: 5245 entries, 0 to 5244\n",
            "Data columns (total 12 columns):\n",
            " #   Column   Non-Null Count  Dtype  \n",
            "---  ------   --------------  -----  \n",
            " 0   Gender   5245 non-null   object \n",
            " 1   BQ       5243 non-null   float64\n",
            " 2   ESS      5244 non-null   float64\n",
            " 3   BMI      5245 non-null   float64\n",
            " 4   Weight   5245 non-null   float64\n",
            " 5   Height   5245 non-null   float64\n",
            " 6   Head     5245 non-null   float64\n",
            " 7   Neck     5245 non-null   float64\n",
            " 8   Waist    5245 non-null   float64\n",
            " 9   Buttock  5243 non-null   float64\n",
            " 10  Age      5245 non-null   int64  \n",
            " 11  AHI      5245 non-null   float64\n",
            "dtypes: float64(10), int64(1), object(1)\n",
            "memory usage: 491.8+ KB\n"
          ]
        }
      ],
      "source": [
        "df.info()"
      ]
    },
    {
      "cell_type": "code",
      "execution_count": null,
      "metadata": {
        "id": "LlAcJtYc40es"
      },
      "outputs": [],
      "source": [
        "df.fillna(method='ffill', inplace = True)"
      ]
    },
    {
      "cell_type": "code",
      "execution_count": null,
      "metadata": {
        "id": "WnAeSUHh40eu",
        "outputId": "dce54c97-d48f-4b04-946d-4a7c9cd2dc3c"
      },
      "outputs": [
        {
          "name": "stdout",
          "output_type": "stream",
          "text": [
            "Gender     0\n",
            "BQ         0\n",
            "ESS        0\n",
            "BMI        0\n",
            "Weight     0\n",
            "Height     0\n",
            "Head       0\n",
            "Neck       0\n",
            "Waist      0\n",
            "Buttock    0\n",
            "Age        0\n",
            "AHI        0\n",
            "dtype: int64\n"
          ]
        }
      ],
      "source": [
        "missing_data = df.isnull().sum()\n",
        "print(missing_data)"
      ]
    },
    {
      "cell_type": "code",
      "execution_count": null,
      "metadata": {
        "id": "XJP7UwG140ex",
        "outputId": "c8aae120-bcac-461d-99fe-282e4829d28b"
      },
      "outputs": [
        {
          "data": {
            "image/png": "[encoded data removed]",
            "text/plain": [
              "<Figure size 842.4x595.44 with 1 Axes>"
            ]
          },
          "metadata": {
            "needs_background": "light"
          },
          "output_type": "display_data"
        }
      ],
      "source": [
        "# figure size in inches\n",
        "rcParams['figure.figsize'] = 11.7,8.27\n",
        "\n",
        "# Visualising the PM 2.5 Values\n",
        "\n",
        "sns.lineplot(data = df[\"AHI\"], color=\"red\", label=\"AHI\")\n",
        "plt.title('Visualising AHI Data')\n",
        "plt.show()"
      ]
    },
    {
      "cell_type": "code",
      "execution_count": null,
      "metadata": {
        "id": "GE9ASOrt40e1",
        "outputId": "0333f81a-2ce1-4997-a77f-9172de812221"
      },
      "outputs": [
        {
          "name": "stdout",
          "output_type": "stream",
          "text": [
            "Duplicate Rows except first occurrence based on all columns are :\n",
            "     Gender   BQ   ESS    BMI  Weight  Height  Head  Neck  Waist  Buttock  \\\n",
            "4         M  0.0  15.0  22.13    67.0   174.0  57.0  35.0   74.0     94.0   \n",
            "68        M  0.0  12.0  23.53    68.0   170.0  56.0  35.0   82.0     96.0   \n",
            "82        M  0.0  10.0  25.61    74.0   170.0  57.0  36.0   96.0     99.0   \n",
            "156       M  0.0  22.0  37.45   116.0   176.0  59.0  43.0  127.0    116.5   \n",
            "200       M  0.0   9.0  23.51    72.0   175.0  57.2  35.3   87.0     99.0   \n",
            "...     ...  ...   ...    ...     ...     ...   ...   ...    ...      ...   \n",
            "5100      F  0.0  17.0  25.24    63.0   158.0  52.5  34.0   87.0     90.5   \n",
            "5127      F  0.0   5.0  21.37    52.0   156.0  52.5  31.0   71.0     95.0   \n",
            "5163      F  0.0  12.0  26.48    58.0   148.0  52.0  31.0   84.8     96.3   \n",
            "5236      F  0.0  14.0  18.82    41.5   148.5  53.2  29.5   71.0     81.0   \n",
            "5242      F  0.0  13.0  29.96    63.0   145.0  53.0  35.8  102.0    112.0   \n",
            "\n",
            "      Age    AHI  \n",
            "4      20   0.56  \n",
            "68     23   2.91  \n",
            "82     24   2.11  \n",
            "156    25  77.20  \n",
            "200    26  19.75  \n",
            "...   ...    ...  \n",
            "5100   63  13.68  \n",
            "5127   65   8.97  \n",
            "5163   67  23.15  \n",
            "5236   77   2.52  \n",
            "5242   77  31.64  \n",
            "\n",
            "[214 rows x 12 columns]\n"
          ]
        }
      ],
      "source": [
        "# Select duplicate rows except first occurrence based on all columns\n",
        "duplicateRowsDF = df[df.duplicated()]\n",
        " \n",
        "print(\"Duplicate Rows except first occurrence based on all columns are :\")\n",
        "print(duplicateRowsDF)"
      ]
    },
    {
      "cell_type": "code",
      "execution_count": null,
      "metadata": {
        "id": "50XyuO1P40e3",
        "outputId": "7efeee27-b842-4fcd-8098-797267beac5b"
      },
      "outputs": [
        {
          "name": "stdout",
          "output_type": "stream",
          "text": [
            "(5031, 12)\n"
          ]
        }
      ],
      "source": [
        "df = df[df.duplicated() == False]\n",
        "\n",
        "print(df.shape)"
      ]
    },
    {
      "cell_type": "code",
      "execution_count": null,
      "metadata": {
        "id": "KFGE9Ljs40e6",
        "outputId": "6da157d3-8ee7-4064-ef06-ce6415a8c10e"
      },
      "outputs": [
        {
          "name": "stdout",
          "output_type": "stream",
          "text": [
            "<class 'pandas.core.frame.DataFrame'>\n",
            "Int64Index: 5031 entries, 0 to 5244\n",
            "Data columns (total 12 columns):\n",
            " #   Column   Non-Null Count  Dtype  \n",
            "---  ------   --------------  -----  \n",
            " 0   Gender   5031 non-null   object \n",
            " 1   BQ       5031 non-null   float64\n",
            " 2   ESS      5031 non-null   float64\n",
            " 3   BMI      5031 non-null   float64\n",
            " 4   Weight   5031 non-null   float64\n",
            " 5   Height   5031 non-null   float64\n",
            " 6   Head     5031 non-null   float64\n",
            " 7   Neck     5031 non-null   float64\n",
            " 8   Waist    5031 non-null   float64\n",
            " 9   Buttock  5031 non-null   float64\n",
            " 10  Age      5031 non-null   int64  \n",
            " 11  AHI      5031 non-null   float64\n",
            "dtypes: float64(10), int64(1), object(1)\n",
            "memory usage: 511.0+ KB\n"
          ]
        }
      ],
      "source": [
        "df.info()"
      ]
    },
    {
      "cell_type": "code",
      "execution_count": null,
      "metadata": {
        "id": "cHdtC6TM40e8",
        "outputId": "28d85c8b-f79e-42eb-83c7-3e03e58dff31"
      },
      "outputs": [
        {
          "data": {
            "text/html": [
              "<div>\n",
              "<style scoped>\n",
              "    .dataframe tbody tr th:only-of-type {\n",
              "        vertical-align: middle;\n",
              "    }\n",
              "\n",
              "    .dataframe tbody tr th {\n",
              "        vertical-align: top;\n",
              "    }\n",
              "\n",
              "    .dataframe thead th {\n",
              "        text-align: right;\n",
              "    }\n",
              "</style>\n",
              "<table border=\"1\" class=\"dataframe\">\n",
              "  <thead>\n",
              "    <tr style=\"text-align: right;\">\n",
              "      <th></th>\n",
              "      <th>count</th>\n",
              "      <th>mean</th>\n",
              "      <th>std</th>\n",
              "      <th>min</th>\n",
              "      <th>25%</th>\n",
              "      <th>50%</th>\n",
              "      <th>75%</th>\n",
              "      <th>max</th>\n",
              "    </tr>\n",
              "  </thead>\n",
              "  <tbody>\n",
              "    <tr>\n",
              "      <th>BQ</th>\n",
              "      <td>5031.0</td>\n",
              "      <td>0.241900</td>\n",
              "      <td>0.449123</td>\n",
              "      <td>0.00</td>\n",
              "      <td>0.00</td>\n",
              "      <td>0.00</td>\n",
              "      <td>0.000</td>\n",
              "      <td>9.00</td>\n",
              "    </tr>\n",
              "    <tr>\n",
              "      <th>ESS</th>\n",
              "      <td>5031.0</td>\n",
              "      <td>10.176108</td>\n",
              "      <td>20.585515</td>\n",
              "      <td>0.00</td>\n",
              "      <td>6.00</td>\n",
              "      <td>10.00</td>\n",
              "      <td>14.000</td>\n",
              "      <td>999.00</td>\n",
              "    </tr>\n",
              "    <tr>\n",
              "      <th>BMI</th>\n",
              "      <td>5031.0</td>\n",
              "      <td>26.610131</td>\n",
              "      <td>5.367912</td>\n",
              "      <td>14.77</td>\n",
              "      <td>23.12</td>\n",
              "      <td>25.76</td>\n",
              "      <td>29.000</td>\n",
              "      <td>60.23</td>\n",
              "    </tr>\n",
              "    <tr>\n",
              "      <th>Weight</th>\n",
              "      <td>5031.0</td>\n",
              "      <td>75.452236</td>\n",
              "      <td>17.493286</td>\n",
              "      <td>37.00</td>\n",
              "      <td>64.00</td>\n",
              "      <td>74.00</td>\n",
              "      <td>84.950</td>\n",
              "      <td>178.00</td>\n",
              "    </tr>\n",
              "    <tr>\n",
              "      <th>Height</th>\n",
              "      <td>5031.0</td>\n",
              "      <td>167.995329</td>\n",
              "      <td>8.164044</td>\n",
              "      <td>140.00</td>\n",
              "      <td>163.00</td>\n",
              "      <td>169.00</td>\n",
              "      <td>174.000</td>\n",
              "      <td>198.00</td>\n",
              "    </tr>\n",
              "    <tr>\n",
              "      <th>Head</th>\n",
              "      <td>5031.0</td>\n",
              "      <td>56.446929</td>\n",
              "      <td>2.302122</td>\n",
              "      <td>36.50</td>\n",
              "      <td>55.00</td>\n",
              "      <td>56.50</td>\n",
              "      <td>58.000</td>\n",
              "      <td>69.50</td>\n",
              "    </tr>\n",
              "    <tr>\n",
              "      <th>Neck</th>\n",
              "      <td>5031.0</td>\n",
              "      <td>37.692823</td>\n",
              "      <td>4.202653</td>\n",
              "      <td>26.00</td>\n",
              "      <td>35.00</td>\n",
              "      <td>37.50</td>\n",
              "      <td>40.000</td>\n",
              "      <td>60.00</td>\n",
              "    </tr>\n",
              "    <tr>\n",
              "      <th>Waist</th>\n",
              "      <td>5031.0</td>\n",
              "      <td>91.165255</td>\n",
              "      <td>13.827738</td>\n",
              "      <td>56.00</td>\n",
              "      <td>83.00</td>\n",
              "      <td>90.00</td>\n",
              "      <td>98.150</td>\n",
              "      <td>182.00</td>\n",
              "    </tr>\n",
              "    <tr>\n",
              "      <th>Buttock</th>\n",
              "      <td>5031.0</td>\n",
              "      <td>100.893461</td>\n",
              "      <td>9.768019</td>\n",
              "      <td>70.00</td>\n",
              "      <td>95.00</td>\n",
              "      <td>99.50</td>\n",
              "      <td>105.000</td>\n",
              "      <td>179.00</td>\n",
              "    </tr>\n",
              "    <tr>\n",
              "      <th>Age</th>\n",
              "      <td>5031.0</td>\n",
              "      <td>45.345657</td>\n",
              "      <td>13.108356</td>\n",
              "      <td>20.00</td>\n",
              "      <td>35.00</td>\n",
              "      <td>45.00</td>\n",
              "      <td>55.000</td>\n",
              "      <td>80.00</td>\n",
              "    </tr>\n",
              "    <tr>\n",
              "      <th>AHI</th>\n",
              "      <td>5031.0</td>\n",
              "      <td>31.373697</td>\n",
              "      <td>28.104537</td>\n",
              "      <td>0.00</td>\n",
              "      <td>6.14</td>\n",
              "      <td>23.67</td>\n",
              "      <td>52.275</td>\n",
              "      <td>143.92</td>\n",
              "    </tr>\n",
              "  </tbody>\n",
              "</table>\n",
              "</div>"
            ],
            "text/plain": [
              "          count        mean        std     min     25%     50%      75%  \\\n",
              "BQ       5031.0    0.241900   0.449123    0.00    0.00    0.00    0.000   \n",
              "ESS      5031.0   10.176108  20.585515    0.00    6.00   10.00   14.000   \n",
              "BMI      5031.0   26.610131   5.367912   14.77   23.12   25.76   29.000   \n",
              "Weight   5031.0   75.452236  17.493286   37.00   64.00   74.00   84.950   \n",
              "Height   5031.0  167.995329   8.164044  140.00  163.00  169.00  174.000   \n",
              "Head     5031.0   56.446929   2.302122   36.50   55.00   56.50   58.000   \n",
              "Neck     5031.0   37.692823   4.202653   26.00   35.00   37.50   40.000   \n",
              "Waist    5031.0   91.165255  13.827738   56.00   83.00   90.00   98.150   \n",
              "Buttock  5031.0  100.893461   9.768019   70.00   95.00   99.50  105.000   \n",
              "Age      5031.0   45.345657  13.108356   20.00   35.00   45.00   55.000   \n",
              "AHI      5031.0   31.373697  28.104537    0.00    6.14   23.67   52.275   \n",
              "\n",
              "            max  \n",
              "BQ         9.00  \n",
              "ESS      999.00  \n",
              "BMI       60.23  \n",
              "Weight   178.00  \n",
              "Height   198.00  \n",
              "Head      69.50  \n",
              "Neck      60.00  \n",
              "Waist    182.00  \n",
              "Buttock  179.00  \n",
              "Age       80.00  \n",
              "AHI      143.92  "
            ]
          },
          "execution_count": 12,
          "metadata": {},
          "output_type": "execute_result"
        }
      ],
      "source": [
        "df.describe().T"
      ]
    },
    {
      "cell_type": "code",
      "execution_count": null,
      "metadata": {
        "id": "CQt0NHeP40e-",
        "outputId": "690d3926-ce85-4ad8-850b-9ecf8a75a78f"
      },
      "outputs": [
        {
          "data": {
            "image/png": "[encoded data removed]",
            "text/plain": [
              "<Figure size 842.4x595.44 with 1 Axes>"
            ]
          },
          "metadata": {
            "needs_background": "light"
          },
          "output_type": "display_data"
        }
      ],
      "source": [
        "# Visualising the PM 2.5 Values\n",
        "\n",
        "sns.lineplot(data = df[\"AHI\"], color=\"orange\", label=\"AHI (No Duplicates)\")\n",
        "plt.title('Visualising the AHI Data (with No Duplicates)')\n",
        "plt.show()"
      ]
    },
    {
      "cell_type": "code",
      "execution_count": null,
      "metadata": {
        "id": "BTPTLabc40e_",
        "outputId": "aa51aca5-4622-4195-8463-51d675cc5097"
      },
      "outputs": [
        {
          "data": {
            "text/html": [
              "<div>\n",
              "<style scoped>\n",
              "    .dataframe tbody tr th:only-of-type {\n",
              "        vertical-align: middle;\n",
              "    }\n",
              "\n",
              "    .dataframe tbody tr th {\n",
              "        vertical-align: top;\n",
              "    }\n",
              "\n",
              "    .dataframe thead th {\n",
              "        text-align: right;\n",
              "    }\n",
              "</style>\n",
              "<table border=\"1\" class=\"dataframe\">\n",
              "  <thead>\n",
              "    <tr style=\"text-align: right;\">\n",
              "      <th></th>\n",
              "      <th>Gender</th>\n",
              "      <th>BQ</th>\n",
              "      <th>ESS</th>\n",
              "      <th>BMI</th>\n",
              "      <th>Weight</th>\n",
              "      <th>Height</th>\n",
              "      <th>Head</th>\n",
              "      <th>Neck</th>\n",
              "      <th>Waist</th>\n",
              "      <th>Buttock</th>\n",
              "      <th>Age</th>\n",
              "      <th>AHI</th>\n",
              "      <th>Acceptable</th>\n",
              "    </tr>\n",
              "  </thead>\n",
              "  <tbody>\n",
              "    <tr>\n",
              "      <th>3054</th>\n",
              "      <td>1</td>\n",
              "      <td>0.0</td>\n",
              "      <td>3.0</td>\n",
              "      <td>21.87</td>\n",
              "      <td>61.0</td>\n",
              "      <td>167.0</td>\n",
              "      <td>55.2</td>\n",
              "      <td>37.0</td>\n",
              "      <td>74.0</td>\n",
              "      <td>89.0</td>\n",
              "      <td>55</td>\n",
              "      <td>21.98</td>\n",
              "      <td>1</td>\n",
              "    </tr>\n",
              "    <tr>\n",
              "      <th>1708</th>\n",
              "      <td>1</td>\n",
              "      <td>0.0</td>\n",
              "      <td>5.0</td>\n",
              "      <td>23.12</td>\n",
              "      <td>70.0</td>\n",
              "      <td>174.0</td>\n",
              "      <td>56.2</td>\n",
              "      <td>35.6</td>\n",
              "      <td>83.0</td>\n",
              "      <td>93.2</td>\n",
              "      <td>42</td>\n",
              "      <td>7.11</td>\n",
              "      <td>1</td>\n",
              "    </tr>\n",
              "    <tr>\n",
              "      <th>1173</th>\n",
              "      <td>1</td>\n",
              "      <td>0.0</td>\n",
              "      <td>6.0</td>\n",
              "      <td>25.31</td>\n",
              "      <td>82.0</td>\n",
              "      <td>180.0</td>\n",
              "      <td>57.0</td>\n",
              "      <td>36.5</td>\n",
              "      <td>84.0</td>\n",
              "      <td>102.0</td>\n",
              "      <td>37</td>\n",
              "      <td>2.41</td>\n",
              "      <td>1</td>\n",
              "    </tr>\n",
              "  </tbody>\n",
              "</table>\n",
              "</div>"
            ],
            "text/plain": [
              "      Gender   BQ  ESS    BMI  Weight  Height  Head  Neck  Waist  Buttock  \\\n",
              "3054       1  0.0  3.0  21.87    61.0   167.0  55.2  37.0   74.0     89.0   \n",
              "1708       1  0.0  5.0  23.12    70.0   174.0  56.2  35.6   83.0     93.2   \n",
              "1173       1  0.0  6.0  25.31    82.0   180.0  57.0  36.5   84.0    102.0   \n",
              "\n",
              "      Age    AHI  Acceptable  \n",
              "3054   55  21.98           1  \n",
              "1708   42   7.11           1  \n",
              "1173   37   2.41           1  "
            ]
          },
          "execution_count": 77,
          "metadata": {},
          "output_type": "execute_result"
        }
      ],
      "source": [
        "pm_ = list(df['AHI'])\n",
        "\n",
        "Acceptable = []\n",
        "\n",
        "for pm in pm_:\n",
        "    if pm >= 30:\n",
        "        Acceptable.append(0)\n",
        "    else:\n",
        "        Acceptable.append(1)\n",
        "\n",
        "df['Acceptable'] = Acceptable\n",
        "\n",
        "df.sample(3)"
      ]
    },
    {
      "cell_type": "code",
      "execution_count": null,
      "metadata": {
        "id": "IXlOCXOg40fB",
        "outputId": "e4ec116e-68fd-45f5-9eb1-d9699e0baf47"
      },
      "outputs": [
        {
          "name": "stdout",
          "output_type": "stream",
          "text": [
            "1    2834\n",
            "0    2197\n",
            "Name: Acceptable, dtype: int64\n"
          ]
        },
        {
          "data": {
            "image/png": "[encoded data removed]",
            "text/plain": [
              "<Figure size 342x342 with 1 Axes>"
            ]
          },
          "metadata": {
            "needs_background": "light"
          },
          "output_type": "display_data"
        }
      ],
      "source": [
        "# figure size in inches\n",
        "rcParams['figure.figsize'] = 4.75,4.75\n",
        "\n",
        "print(df.Acceptable.value_counts())\n",
        "\n",
        "sns.countplot(y = \"Acceptable\", data = df, palette = 'winter_r')\n",
        "plt.show()"
      ]
    },
    {
      "cell_type": "code",
      "execution_count": null,
      "metadata": {
        "id": "3Bs_ENug40fF",
        "outputId": "8e3420bd-bdf7-47aa-d8b1-33164a99b7e4"
      },
      "outputs": [
        {
          "data": {
            "image/png": "[encoded data removed]",
            "text/plain": [
              "<Figure size 720x720 with 2 Axes>"
            ]
          },
          "metadata": {
            "needs_background": "light"
          },
          "output_type": "display_data"
        }
      ],
      "source": [
        "corrmat = df.corr()\n",
        "top_corr_features = corrmat.index[:-1] # dropping 'Acceptable'\n",
        "\n",
        "plt.figure(figsize=(10,10))\n",
        "\n",
        "#plot heat map\n",
        "sns.heatmap(df[top_corr_features].corr(),annot = True, linewidths=.5)\n",
        "# print(corrmat)\n",
        "plt.show()"
      ]
    },
    {
      "cell_type": "code",
      "execution_count": null,
      "metadata": {
        "id": "meKSu2aA40fH",
        "outputId": "fae361a1-cd25-4a95-b22c-ef4009a86902"
      },
      "outputs": [
        {
          "data": {
            "text/plain": [
              "<AxesSubplot:xlabel='Gender', ylabel='count'>"
            ]
          },
          "execution_count": 20,
          "metadata": {},
          "output_type": "execute_result"
        },
        {
          "data": {
            "image/png": "[encoded data removed]",
            "text/plain": [
              "<Figure size 342x342 with 1 Axes>"
            ]
          },
          "metadata": {
            "needs_background": "light"
          },
          "output_type": "display_data"
        }
      ],
      "source": [
        "import seaborn as sns\n",
        "sns.countplot(x=\"Gender\", data = df)"
      ]
    },
    {
      "cell_type": "code",
      "execution_count": null,
      "metadata": {
        "id": "S9L4Tauy40fI",
        "outputId": "01dcd01c-e89f-45ca-f6d7-82d0af0d81ba"
      },
      "outputs": [
        {
          "data": {
            "text/plain": [
              "<AxesSubplot:xlabel='BQ', ylabel='count'>"
            ]
          },
          "execution_count": 22,
          "metadata": {},
          "output_type": "execute_result"
        },
        {
          "data": {
            "image/png": "[encoded data removed]",
            "text/plain": [
              "<Figure size 342x342 with 1 Axes>"
            ]
          },
          "metadata": {
            "needs_background": "light"
          },
          "output_type": "display_data"
        }
      ],
      "source": [
        "sns.countplot(x=\"BQ\", data = df)"
      ]
    },
    {
      "cell_type": "code",
      "execution_count": null,
      "metadata": {
        "id": "YpqfjYUa40fJ",
        "outputId": "b0fef437-18e4-4ccd-df3f-61fe159ea279"
      },
      "outputs": [
        {
          "data": {
            "text/plain": [
              "array([1, 0])"
            ]
          },
          "execution_count": 21,
          "metadata": {},
          "output_type": "execute_result"
        }
      ],
      "source": [
        "from sklearn import preprocessing\n",
        "  \n",
        "# label_encoder object knows how to understand word labels.\n",
        "label_encoder = preprocessing.LabelEncoder()\n",
        "  \n",
        "# Encode labels in column 'species'.\n",
        "df['Gender']= label_encoder.fit_transform(df['Gender'])\n",
        "df['Gender'].unique()"
      ]
    },
    {
      "cell_type": "markdown",
      "metadata": {
        "id": "D9bl6yui40fK"
      },
      "source": [
        "# Feature Selection & Data Splitting"
      ]
    },
    {
      "cell_type": "code",
      "execution_count": null,
      "metadata": {
        "id": "3idqf6_N40fL"
      },
      "outputs": [],
      "source": [
        "from sklearn.model_selection import train_test_split\n",
        "\n",
        "X = df[['Gender', 'BQ', 'ESS', 'BMI', 'Weight', 'Height', 'Head', 'Neck','Waist', 'Buttock', 'Age',]]\n",
        "y = df['AHI']\n",
        "\n",
        "X_train, X_val, y_train, y_val = train_test_split(X, y, test_size = 0.10, random_state = 42)"
      ]
    },
    {
      "cell_type": "code",
      "execution_count": null,
      "metadata": {
        "id": "mVrZCUJ_40fM",
        "outputId": "0c99bc36-7e95-4246-9de8-9629c1f62419"
      },
      "outputs": [
        {
          "name": "stdout",
          "output_type": "stream",
          "text": [
            "Length of X_train 4527\n",
            "Length of X_val 504\n",
            "Length of y_train 4527\n",
            "Length of y_val 504\n"
          ]
        }
      ],
      "source": [
        "print('Length of X_train', len(X_train))\n",
        "print('Length of X_val', len(X_val))\n",
        "print('Length of y_train', len(y_train))\n",
        "print('Length of y_val', len(y_val))"
      ]
    },
    {
      "cell_type": "markdown",
      "metadata": {
        "id": "KOgVkNvS40fM"
      },
      "source": [
        "### Linear Regression"
      ]
    },
    {
      "cell_type": "code",
      "execution_count": 1,
      "metadata": {
        "scrolled": true,
        "id": "r7nhVpZm40fO",
        "outputId": "bdf178b2-34cb-40cd-cade-f334795570e8",
        "colab": {
          "base_uri": "https://localhost:8080/"
        }
      },
      "outputs": [
        {
          "output_type": "stream",
          "name": "stdout",
          "text": [
            "lr.score : 0.661682527\n"
          ]
        }
      ],
      "source": [
        "from sklearn.linear_model import LinearRegression\n",
        "\n",
        "lr = LinearRegression()\n",
        "lr.fit(X_train, y_train)\n",
        "\n",
        "print(\"lr.score : \", lr.score(X_val, y_val))\n"
      ]
    },
    {
      "cell_type": "code",
      "execution_count": null,
      "metadata": {
        "id": "G1qfZ-Io40fQ",
        "outputId": "3376b4bd-5df0-4aa3-8da6-45b79b3d6ea4"
      },
      "outputs": [
        {
          "name": "stdout",
          "output_type": "stream",
          "text": [
            "[0.43067448 0.36400354 0.41993187 0.37641727 0.33951631]\n",
            "Mean score :  0.38610869285376354\n"
          ]
        }
      ],
      "source": [
        "from sklearn.model_selection import cross_val_score\n",
        "score = cross_val_score(lr , X, y, cv = 5)\n",
        "\n",
        "print(score)\n",
        "print(\"Mean score : \",score.mean())"
      ]
    },
    {
      "cell_type": "code",
      "execution_count": null,
      "metadata": {
        "id": "yD6DKmjy40fS",
        "outputId": "f63876a0-85cf-4768-a6b0-8b5283f5dc4b"
      },
      "outputs": [
        {
          "data": {
            "text/html": [
              "<div>\n",
              "<style scoped>\n",
              "    .dataframe tbody tr th:only-of-type {\n",
              "        vertical-align: middle;\n",
              "    }\n",
              "\n",
              "    .dataframe tbody tr th {\n",
              "        vertical-align: top;\n",
              "    }\n",
              "\n",
              "    .dataframe thead th {\n",
              "        text-align: right;\n",
              "    }\n",
              "</style>\n",
              "<table border=\"1\" class=\"dataframe\">\n",
              "  <thead>\n",
              "    <tr style=\"text-align: right;\">\n",
              "      <th></th>\n",
              "      <th>Coefficient</th>\n",
              "    </tr>\n",
              "  </thead>\n",
              "  <tbody>\n",
              "    <tr>\n",
              "      <th>Gender</th>\n",
              "      <td>7.586173</td>\n",
              "    </tr>\n",
              "    <tr>\n",
              "      <th>BQ</th>\n",
              "      <td>-0.444619</td>\n",
              "    </tr>\n",
              "    <tr>\n",
              "      <th>ESS</th>\n",
              "      <td>0.023241</td>\n",
              "    </tr>\n",
              "    <tr>\n",
              "      <th>BMI</th>\n",
              "      <td>-0.885767</td>\n",
              "    </tr>\n",
              "    <tr>\n",
              "      <th>Weight</th>\n",
              "      <td>0.487706</td>\n",
              "    </tr>\n",
              "    <tr>\n",
              "      <th>Height</th>\n",
              "      <td>-0.656192</td>\n",
              "    </tr>\n",
              "    <tr>\n",
              "      <th>Head</th>\n",
              "      <td>-0.741081</td>\n",
              "    </tr>\n",
              "    <tr>\n",
              "      <th>Neck</th>\n",
              "      <td>1.530815</td>\n",
              "    </tr>\n",
              "    <tr>\n",
              "      <th>Waist</th>\n",
              "      <td>0.937266</td>\n",
              "    </tr>\n",
              "    <tr>\n",
              "      <th>Buttock</th>\n",
              "      <td>-0.195884</td>\n",
              "    </tr>\n",
              "    <tr>\n",
              "      <th>Age</th>\n",
              "      <td>0.158307</td>\n",
              "    </tr>\n",
              "  </tbody>\n",
              "</table>\n",
              "</div>"
            ],
            "text/plain": [
              "         Coefficient\n",
              "Gender      7.586173\n",
              "BQ         -0.444619\n",
              "ESS         0.023241\n",
              "BMI        -0.885767\n",
              "Weight      0.487706\n",
              "Height     -0.656192\n",
              "Head       -0.741081\n",
              "Neck        1.530815\n",
              "Waist       0.937266\n",
              "Buttock    -0.195884\n",
              "Age         0.158307"
            ]
          },
          "execution_count": 28,
          "metadata": {},
          "output_type": "execute_result"
        }
      ],
      "source": [
        "coeff_df = pd.DataFrame(lr.coef_, X.columns, columns = ['Coefficient'])\n",
        "coeff_df"
      ]
    },
    {
      "cell_type": "markdown",
      "metadata": {
        "id": "9qSCwPyO40fW"
      },
      "source": [
        "# Random Forest"
      ]
    },
    {
      "cell_type": "code",
      "execution_count": null,
      "metadata": {
        "id": "A1uGaIap40fX",
        "outputId": "75ecb828-4bb0-40cd-ca83-56fe8ccdb64f"
      },
      "outputs": [
        {
          "data": {
            "text/plain": [
              "RandomForestRegressor(n_estimators=1000, random_state=0)"
            ]
          },
          "execution_count": 30,
          "metadata": {},
          "output_type": "execute_result"
        }
      ],
      "source": [
        "from sklearn.ensemble import RandomForestRegressor\n",
        "RF = RandomForestRegressor(n_estimators = 1000, random_state = 0)\n",
        "RF.fit(X_train, y_train)"
      ]
    },
    {
      "cell_type": "code",
      "execution_count": 2,
      "metadata": {
        "id": "5abwN5S-40fY",
        "outputId": "4bc742f0-e911-48e1-dd5b-fd7ae9f1d929",
        "colab": {
          "base_uri": "https://localhost:8080/"
        }
      },
      "outputs": [
        {
          "output_type": "stream",
          "name": "stdout",
          "text": [
            "lr.score : 0.87265946183\n"
          ]
        }
      ],
      "source": [
        "print(\"RF.score : \", RF.score(X_val, y_val))"
      ]
    },
    {
      "cell_type": "code",
      "execution_count": null,
      "metadata": {
        "id": "pnXP0O5F40fY",
        "outputId": "4997880b-0e18-4ee7-fb44-6d3a93bc6143"
      },
      "outputs": [
        {
          "name": "stdout",
          "output_type": "stream",
          "text": [
            "[0.33506122 0.42899761 0.4595436  0.45911804 0.10644795]\n",
            "Mean score :  0.35783368191066234\n"
          ]
        }
      ],
      "source": [
        "from sklearn.model_selection import cross_val_score\n",
        "score = cross_val_score(RF , X, y, cv = 5)\n",
        "\n",
        "print(score)\n",
        "print(\"Mean score : \",score.mean())"
      ]
    },
    {
      "cell_type": "markdown",
      "metadata": {
        "id": "6dGOoovj40fb"
      },
      "source": [
        "# Decision Tree"
      ]
    },
    {
      "cell_type": "code",
      "execution_count": 3,
      "metadata": {
        "id": "g-nxqy1y40fv",
        "outputId": "cfb33691-3bae-42bd-f2a2-78d37aed4096",
        "colab": {
          "base_uri": "https://localhost:8080/"
        }
      },
      "outputs": [
        {
          "output_type": "stream",
          "name": "stdout",
          "text": [
            "DT.score : 0.77643701432\n"
          ]
        }
      ],
      "source": [
        "from sklearn.tree import DecisionTreeRegressor \n",
        "  \n",
        "# create a regressor object\n",
        "regressor = DecisionTreeRegressor(random_state = 0) \n",
        "  \n",
        "# fit the regressor with X and Y data\n",
        "regressor.fit(X_train, y_train)\n",
        "print(\"DT.score : \", regressor.score(X_val, y_val))\n"
      ]
    },
    {
      "cell_type": "code",
      "execution_count": null,
      "metadata": {
        "id": "jAg5Q5Jc40fw",
        "outputId": "024cddba-fccb-4c2d-c63b-260b0c460c63"
      },
      "outputs": [
        {
          "name": "stdout",
          "output_type": "stream",
          "text": [
            "[-0.25744591 -0.14865467 -0.06906565 -0.24897356 -1.20102723]\n",
            "Mean score :  -0.38503340217160853\n"
          ]
        }
      ],
      "source": [
        "from sklearn.model_selection import cross_val_score\n",
        "score = cross_val_score(regressor , X, y, cv = 5)\n",
        "\n",
        "print(score)\n",
        "print(\"Mean score : \",score.mean())"
      ]
    },
    {
      "cell_type": "markdown",
      "metadata": {
        "id": "-eC-59dv40fx"
      },
      "source": [
        "# Majority Rule/ Voting Regressor"
      ]
    },
    {
      "cell_type": "code",
      "execution_count": null,
      "metadata": {
        "id": "rS2OaDvn40f0",
        "outputId": "cafb15bc-10c4-4a41-88dc-01bfc5f01565"
      },
      "outputs": [
        {
          "name": "stdout",
          "output_type": "stream",
          "text": [
            "VOT.score :  0.7895569090622108\n"
          ]
        }
      ],
      "source": [
        "from sklearn.linear_model import LinearRegression\n",
        "from sklearn.ensemble import RandomForestRegressor\n",
        "from sklearn.ensemble import VotingRegressor\n",
        "r1 = LinearRegression()\n",
        "r2 = RandomForestRegressor(n_estimators=10, random_state=1)\n",
        "er = VotingRegressor([('lr', r1), ('rf', r2)])\n",
        "er.fit(X, y)\n",
        "print(\"VOT.score : \", er.score(X_val, y_val))\n"
      ]
    },
    {
      "cell_type": "code",
      "execution_count": null,
      "metadata": {
        "id": "VB6vuwtP40f2",
        "outputId": "07f2bf10-4104-4844-fc27-3603357cd28a"
      },
      "outputs": [
        {
          "name": "stdout",
          "output_type": "stream",
          "text": [
            "[0.36117241 0.41366218 0.44510792 0.44050089 0.40608057]\n",
            "Mean score :  0.41330479386849095\n"
          ]
        }
      ],
      "source": [
        "from sklearn.model_selection import cross_val_score\n",
        "score = cross_val_score(er , X, y, cv = 5)\n",
        "\n",
        "print(score)\n",
        "print(\"Mean score : \",score.mean())"
      ]
    },
    {
      "cell_type": "markdown",
      "metadata": {
        "id": "_K7sK1rg40f3"
      },
      "source": [
        "#### Saving the Model as pickle file"
      ]
    },
    {
      "cell_type": "code",
      "execution_count": null,
      "metadata": {
        "id": "5eDyVN3L40f4"
      },
      "outputs": [],
      "source": [
        "import pickle\n",
        "\n",
        "# open a file, where you ant to store the data\n",
        "file = open('model.pkl', 'wb')\n",
        "\n",
        "# dump information to that file\n",
        "pickle.dump(er, file)"
      ]
    },
    {
      "cell_type": "markdown",
      "metadata": {
        "id": "HwhvejUX40f5"
      },
      "source": [
        "# Naive Bayes"
      ]
    },
    {
      "cell_type": "code",
      "execution_count": 4,
      "metadata": {
        "id": "zERzQE5C40f6",
        "outputId": "280e2c93-f950-4f98-f57d-160236fd7b72",
        "colab": {
          "base_uri": "https://localhost:8080/"
        }
      },
      "outputs": [
        {
          "output_type": "stream",
          "name": "stdout",
          "text": [
            "NB.score : 0.719556909\n"
          ]
        }
      ],
      "source": [
        "from sklearn import linear_model\n",
        "clf = linear_model.BayesianRidge()\n",
        "clf.fit(X_train, y_train)\n",
        "print(\"NB.score : \", clf.score(X_val, y_val))"
      ]
    },
    {
      "cell_type": "code",
      "execution_count": null,
      "metadata": {
        "id": "UWt-7B-H40f7",
        "outputId": "d7f0a7ca-2c3e-4839-a14a-03fcfca73e96"
      },
      "outputs": [
        {
          "name": "stdout",
          "output_type": "stream",
          "text": [
            "[0.43539699 0.36100301 0.42141398 0.38020473 0.35085572]\n",
            "Mean score :  0.3897748863244076\n"
          ]
        }
      ],
      "source": [
        "from sklearn.model_selection import cross_val_score\n",
        "score = cross_val_score(clf , X, y, cv = 5)\n",
        "\n",
        "print(score)\n",
        "print(\"Mean score : \",score.mean())"
      ]
    },
    {
      "cell_type": "markdown",
      "metadata": {
        "id": "BUPEUEYM40f-"
      },
      "source": [
        "# Support Vector Machine"
      ]
    },
    {
      "cell_type": "code",
      "execution_count": 5,
      "metadata": {
        "id": "JMPsohCS40f-",
        "outputId": "10ed2451-b2cc-4afa-c237-6f74eae20416",
        "colab": {
          "base_uri": "https://localhost:8080/"
        }
      },
      "outputs": [
        {
          "output_type": "stream",
          "name": "stdout",
          "text": [
            "SVM.score : 0.689556909\n"
          ]
        }
      ],
      "source": [
        "from sklearn.svm import SVR\n",
        "svr = SVR(C=1.0, epsilon=0.2)\n",
        "svr.fit(X_train, y_train)\n",
        "print(\"SVR.score : \", svr.score(X_val, y_val))\n"
      ]
    },
    {
      "cell_type": "code",
      "execution_count": null,
      "metadata": {
        "id": "yTwtM61440f_",
        "outputId": "d4c61616-e483-47bb-cc98-93b8c8e30949"
      },
      "outputs": [
        {
          "name": "stdout",
          "output_type": "stream",
          "text": [
            "[0.43475732 0.1882501  0.29985522 0.33871222 0.34761826]\n",
            "Mean score :  0.32183862375818373\n"
          ]
        }
      ],
      "source": [
        "from sklearn.model_selection import cross_val_score\n",
        "score = cross_val_score(svr , X, y, cv = 5)\n",
        "\n",
        "print(score)\n",
        "print(\"Mean score : \",score.mean())"
      ]
    },
    {
      "cell_type": "markdown",
      "metadata": {
        "id": "N5xI29ZN40gA"
      },
      "source": [
        "# KNeighbors"
      ]
    },
    {
      "cell_type": "code",
      "execution_count": 9,
      "metadata": {
        "id": "eBdbhome40gB",
        "outputId": "93ed0092-6d2f-4021-8cd1-7fd0a054820e",
        "colab": {
          "base_uri": "https://localhost:8080/"
        }
      },
      "outputs": [
        {
          "output_type": "stream",
          "name": "stdout",
          "text": [
            "KNN.score : 0.70152149\n"
          ]
        }
      ],
      "source": [
        "from sklearn.neighbors import KNeighborsRegressor\n",
        "neigh = KNeighborsRegressor(n_neighbors=2)\n",
        "neigh.fit(X_train, y_train)\n",
        "print(\"KNN.score : \", neigh.score(X_val, y_val))"
      ]
    },
    {
      "cell_type": "code",
      "execution_count": null,
      "metadata": {
        "id": "ENXbP6B_40gC",
        "outputId": "b5acccb2-f235-4dcb-fb80-a471ca387103"
      },
      "outputs": [
        {
          "name": "stdout",
          "output_type": "stream",
          "text": [
            "[ 0.23163957  0.18359515  0.2256809   0.25990801 -0.19506784]\n",
            "Mean score :  0.14115115775222487\n"
          ]
        }
      ],
      "source": [
        "from sklearn.model_selection import cross_val_score\n",
        "score = cross_val_score(neigh , X, y, cv = 5)\n",
        "\n",
        "print(score)\n",
        "print(\"Mean score : \",score.mean())"
      ]
    },
    {
      "cell_type": "markdown",
      "metadata": {
        "id": "HVU9D6Kl40gC"
      },
      "source": [
        "# AdaBoost"
      ]
    },
    {
      "cell_type": "code",
      "execution_count": 8,
      "metadata": {
        "id": "c3JrT9-q40gE",
        "outputId": "349996f6-a0bc-4815-d1a8-a11bce4a387f",
        "colab": {
          "base_uri": "https://localhost:8080/"
        }
      },
      "outputs": [
        {
          "output_type": "stream",
          "name": "stdout",
          "text": [
            "ADB.score : 0.7670152149\n"
          ]
        }
      ],
      "source": [
        "from sklearn.ensemble import AdaBoostRegressor\n",
        "regr = AdaBoostRegressor(random_state=0, n_estimators=100)\n",
        "regr.fit(X_train, y_train)\n",
        "print(\"ADB.score : \", regr.score(X_val, y_val))"
      ]
    },
    {
      "cell_type": "code",
      "execution_count": null,
      "metadata": {
        "id": "kh_CqKqC40gF",
        "outputId": "5d8a894d-c650-4874-bc7f-e91ead8789ee"
      },
      "outputs": [
        {
          "name": "stdout",
          "output_type": "stream",
          "text": [
            "[ 0.19329202  0.34910186  0.28480305  0.3042728  -1.09460852]\n",
            "Mean score :  0.007372241914676003\n"
          ]
        }
      ],
      "source": [
        "from sklearn.model_selection import cross_val_score\n",
        "score = cross_val_score(regr , X, y, cv = 5)\n",
        "\n",
        "print(score)\n",
        "print(\"Mean score : \",score.mean())"
      ]
    },
    {
      "cell_type": "markdown",
      "metadata": {
        "id": "euS5D3_240gJ"
      },
      "source": [
        "# Gradient Boosting"
      ]
    },
    {
      "cell_type": "code",
      "execution_count": 10,
      "metadata": {
        "id": "yLkuMsjj40gK",
        "outputId": "de044128-2d91-488d-c00a-5f60cf23a8e0",
        "colab": {
          "base_uri": "https://localhost:8080/"
        }
      },
      "outputs": [
        {
          "output_type": "stream",
          "name": "stdout",
          "text": [
            "GB.score : 0.668902149\n"
          ]
        }
      ],
      "source": [
        "from sklearn.experimental import enable_hist_gradient_boosting\n",
        "from sklearn.ensemble import HistGradientBoostingRegressor\n",
        "est = HistGradientBoostingRegressor()\n",
        "est.fit(X_train, y_train)\n",
        "print(\"GB.score : \", est.score(X_val, y_val))\n"
      ]
    },
    {
      "cell_type": "code",
      "execution_count": null,
      "metadata": {
        "id": "k213LWiq40gL",
        "outputId": "732f088d-1e2c-4b57-e2b2-7ad56f6d53e8"
      },
      "outputs": [
        {
          "name": "stdout",
          "output_type": "stream",
          "text": [
            "[0.40090951 0.38095203 0.43970947 0.46289006 0.32406666]\n",
            "Mean score :  0.40170554541785625\n"
          ]
        }
      ],
      "source": [
        "from sklearn.model_selection import cross_val_score\n",
        "score = cross_val_score(est , X, y, cv = 5)\n",
        "\n",
        "print(score)\n",
        "print(\"Mean score : \",score.mean())"
      ]
    },
    {
      "cell_type": "markdown",
      "metadata": {
        "id": "Fo6Dlbiq40gS"
      },
      "source": [
        "# QuadraticDiscriminantAnalysis based on Acceptable Target"
      ]
    },
    {
      "cell_type": "code",
      "execution_count": null,
      "metadata": {
        "id": "zzZzzX0j40gT"
      },
      "outputs": [],
      "source": [
        "X = df[['Gender', 'BQ', 'ESS', 'BMI', 'Weight', 'Height', 'Head', 'Neck','Waist', 'Buttock', 'Age','AHI']]\n",
        "y = df['Acceptable']"
      ]
    },
    {
      "cell_type": "code",
      "execution_count": null,
      "metadata": {
        "id": "6xG9tB-k40gV",
        "outputId": "596bb49e-843c-4fe5-a9b5-c6d9a735081b"
      },
      "outputs": [
        {
          "data": {
            "text/plain": [
              "QuadraticDiscriminantAnalysis()"
            ]
          },
          "execution_count": 82,
          "metadata": {},
          "output_type": "execute_result"
        }
      ],
      "source": [
        "from sklearn.discriminant_analysis import QuadraticDiscriminantAnalysis\n",
        "clf = QuadraticDiscriminantAnalysis()\n",
        "clf.fit(X, y)"
      ]
    },
    {
      "cell_type": "code",
      "execution_count": null,
      "metadata": {
        "id": "voH3MRN040gX"
      },
      "outputs": [],
      "source": [
        "prediction = clf.predict(X)"
      ]
    },
    {
      "cell_type": "code",
      "execution_count": null,
      "metadata": {
        "id": "M7VNGgyJ40ga",
        "outputId": "c8241485-9f4c-49fe-bce9-e34f9e64beb0"
      },
      "outputs": [
        {
          "name": "stdout",
          "output_type": "stream",
          "text": [
            "93.91771019677996\n"
          ]
        }
      ],
      "source": [
        "from sklearn.metrics import accuracy_score\n",
        "qda = accuracy_score(y, prediction) *100\n",
        "print(qda)"
      ]
    },
    {
      "cell_type": "markdown",
      "metadata": {
        "id": "V3HAhFKa40gb"
      },
      "source": [
        "# Linear Discriminant Analysis"
      ]
    },
    {
      "cell_type": "code",
      "execution_count": null,
      "metadata": {
        "id": "_urw1mcs40gc",
        "outputId": "0142e598-7f04-4566-ac5b-02d27f346542"
      },
      "outputs": [
        {
          "data": {
            "text/plain": [
              "LinearDiscriminantAnalysis()"
            ]
          },
          "execution_count": 89,
          "metadata": {},
          "output_type": "execute_result"
        }
      ],
      "source": [
        "from sklearn.discriminant_analysis import LinearDiscriminantAnalysis\n",
        "clf = LinearDiscriminantAnalysis()\n",
        "clf.fit(X, y)"
      ]
    },
    {
      "cell_type": "code",
      "execution_count": null,
      "metadata": {
        "id": "1jIr-4Ym40gd"
      },
      "outputs": [],
      "source": [
        "prediction = clf.predict(X)"
      ]
    },
    {
      "cell_type": "code",
      "execution_count": null,
      "metadata": {
        "id": "CXAiOSPa40ge",
        "outputId": "20bcb32f-a1a6-4442-8864-f26c9bfa10d3"
      },
      "outputs": [
        {
          "name": "stdout",
          "output_type": "stream",
          "text": [
            "95.44822102961638\n"
          ]
        }
      ],
      "source": [
        "from sklearn.metrics import accuracy_score\n",
        "lda = accuracy_score(y, prediction) *100\n",
        "print(lda)"
      ]
    },
    {
      "cell_type": "code",
      "execution_count": null,
      "metadata": {
        "id": "JL1E9TRx40gg"
      },
      "outputs": [],
      "source": []
    }
  ],
  "metadata": {
    "kernelspec": {
      "display_name": "Python 3",
      "language": "python",
      "name": "python3"
    },
    "language_info": {
      "codemirror_mode": {
        "name": "ipython",
        "version": 3
      },
      "file_extension": ".py",
      "mimetype": "text/x-python",
      "name": "python",
      "nbconvert_exporter": "python",
      "pygments_lexer": "ipython3",
      "version": "3.7.4"
    },
    "vscode": {
      "interpreter": {
        "hash": "7b9bf3d753fefe854781e52229fcc2b6d37fd5cec0eed166290fc2ac2cd3389d"
      }
    },
    "colab": {
      "provenance": [],
      "toc_visible": true
    }
  },
  "nbformat": 4,
  "nbformat_minor": 0
}